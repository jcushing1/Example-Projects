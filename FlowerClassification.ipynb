{
 "cells": [
  {
   "cell_type": "markdown",
   "metadata": {},
   "source": [
    "\n"
   ]
  },
  {
   "cell_type": "markdown",
   "metadata": {},
   "source": [
    "## This notebook builds a image classifier in Keras to classify 104 types of flower types.  It is trained on a Tensor Processing Unit (TPU).  "
   ]
  },
  {
   "cell_type": "code",
   "execution_count": null,
   "metadata": {},
   "outputs": [],
   "source": [
    "#!pip install -U tensorflow==2.4.0  \n",
    "\n",
    "#upgrade TensorFlow for improved performance and ability to transfer learn from more models in tf.keras.applications"
   ]
  },
  {
   "cell_type": "markdown",
   "metadata": {},
   "source": [
    "# Imports\n",
    "We begin by importing several Python packages."
   ]
  },
  {
   "cell_type": "code",
   "execution_count": null,
   "metadata": {},
   "outputs": [],
   "source": [
    "### !pip install seaborn --upgrade\n",
    "import seaborn as sns\n",
    "import matplotlib.pyplot as plt\n",
    "from matplotlib import cm\n",
    "import math, re, os\n",
    "import pandas as pd\n",
    "import numpy as np\n",
    "import random\n",
    "import tensorflow as tf\n",
    "\n",
    "print(\"Tensorflow version \" + tf.__version__)"
   ]
  },
  {
   "cell_type": "markdown",
   "metadata": {},
   "source": [
    "# Distribution Strategy\n",
    "A TPU has eight different cores and each of these cores acts as its own accelerator. (A TPU is sort of like having eight GPUs\n",
    "in one machine.) We tell TensorFlow how to make use of all these cores at once through a distribution strategy. "
   ]
  },
  {
   "cell_type": "code",
   "execution_count": null,
   "metadata": {},
   "outputs": [],
   "source": [
    "# Detect TPU, return appropriate distribution strategy\n",
    "try:\n",
    "    tpu = tf.distribute.cluster_resolver.TPUClusterResolver() \n",
    "    print('Running on TPU ', tpu.master())\n",
    "except ValueError:\n",
    "    tpu = None\n",
    "\n",
    "if tpu:\n",
    "    tf.config.experimental_connect_to_cluster(tpu) \n",
    "    tf.tpu.experimental.initialize_tpu_system(tpu) \n",
    "    strategy = tf.distribute.experimental.TPUStrategy(tpu) \n",
    "    strategy = tf.distribute.get_strategy() \n",
    "\n",
    "print(\"REPLICAS: \", strategy.num_replicas_in_sync)\n",
    "#the training will be distributed among the TPU cores by creating this number of replicas, one for each core"
   ]
  },
  {
   "cell_type": "code",
   "execution_count": null,
   "metadata": {},
   "outputs": [],
   "source": [
    "Loading the Data- Get GCS Path\n",
    "When used with TPUs, datasets need to be stored in a Google Cloud Storage bucket.\n",
    "You can use data from any public GCS bucket by giving its path just like you would data from '/kaggle/input'. "
   ]
  },
  {
   "cell_type": "code",
   "execution_count": null,
   "metadata": {},
   "outputs": [],
   "source": [
    "from kaggle_datasets import KaggleDatasets\n",
    "\n",
    "GCS_DS_PATH = KaggleDatasets().get_gcs_path('tpu-getting-started')\n",
    "print(GCS_DS_PATH) # what do gcs paths look like?"
   ]
  },
  {
   "cell_type": "code",
   "execution_count": null,
   "metadata": {},
   "outputs": [],
   "source": [
    "#GCS_DS_PATH_EXT = KaggleDatasets().get_gcs_path('tf-flower-photo-tfrec')"
   ]
  },
  {
   "cell_type": "markdown",
   "metadata": {},
   "source": [
    "## Load Data ##\n",
    "\n",
    "When used with TPUs, datasets are often serialized into [TFRecords](https://www.kaggle.com/ryanholbrook/tfrecords-basics). This is a format convenient for distributing data to each of the TPUs cores. We've hidden the cell that reads the TFRecords for our dataset since the process is a bit long. You could come back to it later for some guidance on using your own datasets with TPUs."
   ]
  },
  {
   "cell_type": "markdown",
   "metadata": {},
   "source": [
    "1. TPUs are equipped with 128GB of high-speed memory allowing larger batches, larger models and also larger training inputs.\n",
    "In the code below, we can use 512x512 px input images, also provided in the dataset, and see the TPU v3-8 handle them easily.¶\n",
    "2. num_parallel_reads=AUTO instructs the API to read from multiple files if available. It figures out how many automatically.\n",
    "3. experimental_deterministic = False disables data order enforcement. We will be shuffling the data anyway so order is not \n",
    "important. With this setting the API can use any TFRecord as soon as it is streamed in."
   ]
  },
  {
   "cell_type": "code",
   "execution_count": null,
   "metadata": {
    "_kg_hide-input": true
   },
   "outputs": [],
   "source": [
    "IMAGE_SIZE = [512, 512] \n",
    "\n",
    "GCS_PATH = GCS_DS_PATH + '/tfrecords-jpeg-512x512'\n",
    "AUTO = tf.data.experimental.AUTOTUNE \n",
    "\n",
    "TRAINING_FILENAMES = tf.io.gfile.glob(GCS_PATH + '/train/*.tfrec')\n",
    "VALIDATION_FILENAMES = tf.io.gfile.glob(GCS_PATH + '/val/*.tfrec')\n",
    "TEST_FILENAMES = tf.io.gfile.glob(GCS_PATH + '/test/*.tfrec') \n",
    "\n",
    "CLASSES = ['pink primrose',    'hard-leaved pocket orchid', 'canterbury bells', 'sweet pea',     'wild geranium',     'tiger lily',           'moon orchid',              'bird of paradise', 'monkshood',        'globe thistle',         # 00 - 09\n",
    "           'snapdragon',       \"colt's foot\",               'king protea',      'spear thistle', 'yellow iris',       'globe-flower',         'purple coneflower',        'peruvian lily',    'balloon flower',   'giant white arum lily', # 10 - 19\n",
    "           'fire lily',        'pincushion flower',         'fritillary',       'red ginger',    'grape hyacinth',    'corn poppy',           'prince of wales feathers', 'stemless gentian', 'artichoke',        'sweet william',         # 20 - 29\n",
    "           'carnation',        'garden phlox',              'love in the mist', 'cosmos',        'alpine sea holly',  'ruby-lipped cattleya', 'cape flower',              'great masterwort', 'siam tulip',       'lenten rose',           # 30 - 39\n",
    "           'barberton daisy',  'daffodil',                  'sword lily',       'poinsettia',    'bolero deep blue',  'wallflower',           'marigold',                 'buttercup',        'daisy',            'common dandelion',      # 40 - 49\n",
    "           'petunia',          'wild pansy',                'primula',          'sunflower',     'lilac hibiscus',    'bishop of llandaff',   'gaura',                    'geranium',         'orange dahlia',    'pink-yellow dahlia',    # 50 - 59\n",
    "           'cautleya spicata', 'japanese anemone',          'black-eyed susan', 'silverbush',    'californian poppy', 'osteospermum',         'spring crocus',            'iris',             'windflower',       'tree poppy',            # 60 - 69\n",
    "           'gazania',          'azalea',                    'water lily',       'rose',          'thorn apple',       'morning glory',        'passion flower',           'lotus',            'toad lily',        'anthurium',             # 70 - 79\n",
    "           'frangipani',       'clematis',                  'hibiscus',         'columbine',     'desert-rose',       'tree mallow',          'magnolia',                 'cyclamen ',        'watercress',       'canna lily',            # 80 - 89\n",
    "           'hippeastrum ',     'bee balm',                  'pink quill',       'foxglove',      'bougainvillea',     'camellia',             'mallow',                   'mexican petunia',  'bromelia',         'blanket flower',        # 90 - 99\n",
    "           'trumpet creeper',  'blackberry lily',           'common tulip',     'wild rose']                                                                                                                                               # 100 - 103\n",
    "\n",
    "\n",
    "def decode_image(image_data):\n",
    "    image = tf.image.decode_jpeg(image_data, channels=3)\n",
    "    image = tf.cast(image, tf.float32) / 255.0  # convert image to floats in [0, 1] range\n",
    "    image = tf.reshape(image, [*IMAGE_SIZE, 3]) # explicit size needed for TPU\n",
    "    return image\n",
    "\n",
    "def read_labeled_tfrecord(example):\n",
    "    LABELED_TFREC_FORMAT = {\n",
    "        \"image\": tf.io.FixedLenFeature([], tf.string), # tf.string means bytestring\n",
    "        \"class\": tf.io.FixedLenFeature([], tf.int64),  # shape [] means single element\n",
    "    }\n",
    "    example = tf.io.parse_single_example(example, LABELED_TFREC_FORMAT)\n",
    "    image = decode_image(example['image'])\n",
    "    label = tf.cast(example['class'], tf.int32)\n",
    "    return image, label # returns a dataset of (image, label) pairs\n",
    "\n",
    "def read_unlabeled_tfrecord(example):\n",
    "    UNLABELED_TFREC_FORMAT = {\n",
    "        \"image\": tf.io.FixedLenFeature([], tf.string), # tf.string means bytestring\n",
    "        \"id\": tf.io.FixedLenFeature([], tf.string),  # shape [] means single element\n",
    "        # class is missing, this competitions's challenge is to predict flower classes for the test dataset\n",
    "    }\n",
    "    example = tf.io.parse_single_example(example, UNLABELED_TFREC_FORMAT)\n",
    "    image = decode_image(example['image'])\n",
    "    idnum = example['id']\n",
    "    return image, idnum # returns a dataset of image(s)\n",
    "\n",
    "def load_dataset(filenames, labeled=True, ordered=False):\n",
    "    # Read from TFRecords. For optimal performance, reading from multiple files at once and\n",
    "    # disregarding data order. Order does not matter since we will be shuffling the data anyway.\n",
    "\n",
    "    ignore_order = tf.data.Options()\n",
    "    if not ordered:\n",
    "        ignore_order.experimental_deterministic = False # disable order, increase speed\n",
    "\n",
    "    dataset = tf.data.TFRecordDataset(filenames, num_parallel_reads=AUTO) # automatically interleaves reads from multiple files. #See Note 2.2 above 😀\n",
    "    dataset = dataset.with_options(ignore_order) # uses data as soon as it streams in, rather than in its original order\n",
    "    dataset = dataset.map(read_labeled_tfrecord if labeled else read_unlabeled_tfrecord, num_parallel_calls=AUTO)\n",
    "    # returns a dataset of (image, label) pairs if labeled=True or (image, id) pairs if labeled=False\n",
    "    return dataset"
   ]
  },
  {
   "cell_type": "markdown",
   "metadata": {},
   "source": [
    "# Data Augmentation and Tuning"
   ]
  },
  {
   "cell_type": "code",
   "execution_count": null,
   "metadata": {},
   "outputs": [],
   "source": [
    "SEED = 82\n",
    "\n",
    "def random_blockout(img, sl=0.1, sh=0.2, rl=0.4):\n",
    "    p=random.random()\n",
    "    if p>=0.25:\n",
    "        w, h, c = IMAGE_SIZE[0], IMAGE_SIZE[1], 3\n",
    "        origin_area = tf.cast(h*w, tf.float32)\n",
    "\n",
    "        e_size_l = tf.cast(tf.round(tf.sqrt(origin_area * sl * rl)), tf.int32)\n",
    "        e_size_h = tf.cast(tf.round(tf.sqrt(origin_area * sh / rl)), tf.int32)\n",
    "\n",
    "        e_height_h = tf.minimum(e_size_h, h)\n",
    "        e_width_h = tf.minimum(e_size_h, w)\n",
    "\n",
    "        erase_height = tf.random.uniform(shape=[], minval=e_size_l, maxval=e_height_h, dtype=tf.int32)\n",
    "        erase_width = tf.random.uniform(shape=[], minval=e_size_l, maxval=e_width_h, dtype=tf.int32)\n",
    "\n",
    "        erase_area = tf.zeros(shape=[erase_height, erase_width, c])\n",
    "        erase_area = tf.cast(erase_area, tf.uint8)\n",
    "\n",
    "        pad_h = h - erase_height\n",
    "        pad_top = tf.random.uniform(shape=[], minval=0, maxval=pad_h, dtype=tf.int32)\n",
    "        pad_bottom = pad_h - pad_top\n",
    "\n",
    "        pad_w = w - erase_width\n",
    "        pad_left = tf.random.uniform(shape=[], minval=0, maxval=pad_w, dtype=tf.int32)\n",
    "        pad_right = pad_w - pad_left\n",
    "\n",
    "        erase_mask = tf.pad([erase_area], [[0,0],[pad_top, pad_bottom], [pad_left, pad_right], [0,0]], constant_values=1)\n",
    "        erase_mask = tf.squeeze(erase_mask, axis=0)\n",
    "        erased_img = tf.multiply(tf.cast(img,tf.float32), tf.cast(erase_mask, tf.float32))\n",
    "\n",
    "        return tf.cast(erased_img, img.dtype)\n",
    "    else:\n",
    "        return tf.cast(img, img.dtype)\n",
    "\n",
    "    \n",
    "def data_augment_v2(image, label):\n",
    "    # Thanks to the dataset.prefetch(AUTO) statement in the next function (below), this happens essentially for free on TPU. \n",
    "    # Data pipeline code is executed on the \"CPU\" part of the TPU while the TPU itself is computing gradients.\n",
    "    \n",
    "    flag = random.randint(1,3)\n",
    "    coef_1 = random.randint(70, 90) * 0.01\n",
    "    coef_2 = random.randint(70, 90) * 0.01\n",
    "    \n",
    "    if flag == 1:\n",
    "        image = tf.image.random_flip_left_right(image, seed=SEED)\n",
    "    elif flag == 2:\n",
    "        image = tf.image.random_flip_up_down(image, seed=SEED)\n",
    "    else:\n",
    "        image = tf.image.random_crop(image, [int(IMAGE_SIZE[0]*coef_1), int(IMAGE_SIZE[0]*coef_2), 3],seed=SEED)\n",
    "        \n",
    "    image = random_blockout(image)\n",
    "    \n",
    "    return image, label "
   ]
  },
  {
   "cell_type": "code",
   "execution_count": null,
   "metadata": {},
   "outputs": [],
   "source": [
    "import tensorflow_addons as tfa\n",
    "\n",
    "# Randomly make some changes to the images and return the new images and labels\n",
    "def data_augment_v3(image, label):\n",
    "        \n",
    "    # Set seed for data augmentation\n",
    "    seed = 100\n",
    "    \n",
    "    # Randomly resize and then crop images\n",
    "    image = tf.image.resize(image, [720, 720])\n",
    "    image = tf.image.random_crop(image, [512, 512, 3], seed = seed)\n",
    "\n",
    "    # Randomly reset brightness of images\n",
    "    image = tf.image.random_brightness(image, 0.6, seed = seed)\n",
    "    \n",
    "    # Randomly reset saturation of images\n",
    "    image = tf.image.random_saturation(image, 3, 5, seed = seed)\n",
    "        \n",
    "    # Randomly reset contrast of images\n",
    "    image = tf.image.random_contrast(image, 0.3, 0.5, seed = seed)\n",
    "\n",
    "    # Randomly reset hue of images, but this will make the colors really weird, which we think will not happen\n",
    "    # in common photography\n",
    "    # image = tf.image.random_hue(image, 0.5, seed = seed)\n",
    "    \n",
    "    # Blur images\n",
    "    image = tfa.image.mean_filter2d(image, filter_shape = 10)\n",
    "    \n",
    "    # Randomly flip images\n",
    "    image = tf.image.random_flip_left_right(image, seed = seed)\n",
    "    image = tf.image.random_flip_up_down(image, seed = seed)\n",
    "    \n",
    "    # Fail to rotate and transform images due to some bug in TensorFlow\n",
    "    # angle = random.randint(0, 180)\n",
    "    # image = tfa.image.rotate(image, tf.constant(np.pi * angle / 180))\n",
    "    # image = tfa.image.transform(image, [1.0, 1.0, -250, 0.0, 1.0, 0.0, 0.0, 0.0])\n",
    "    \n",
    "    return image, label"
   ]
  },
  {
   "cell_type": "markdown",
   "metadata": {},
   "source": [
    "## Create Data Pipelines ##\n",
    "\n",
    "In this final step we'll use the `tf.data` API to define an efficient data pipeline for each of the training, validation, and test splits."
   ]
  },
  {
   "cell_type": "code",
   "execution_count": null,
   "metadata": {
    "_kg_hide-input": true
   },
   "outputs": [],
   "source": [
    "def data_augment(image, label):\n",
    "    # Thanks to the dataset.prefetch(AUTO) statement in the next function (below), this happens essentially for free on TPU. \n",
    "    # Data pipeline code is executed on the \"CPU\" part of the TPU while the TPU itself is computing gradients.\n",
    "    image = tf.image.random_flip_left_right(image)\n",
    "    #image = tf.image.random_saturation(image, 0, 2)\n",
    "    return image, label   \n",
    "\n",
    "def get_training_dataset():\n",
    "    dataset = load_dataset(TRAINING_FILENAMES, labeled=True)\n",
    "    dataset = dataset.map(data_augment, num_parallel_calls=AUTO) #tuning4\n",
    "    dataset = dataset.repeat() # the training dataset must repeat for several epochs\n",
    "    dataset = dataset.shuffle(2048)\n",
    "    dataset = dataset.batch(BATCH_SIZE)\n",
    "    dataset = dataset.prefetch(AUTO) # prefetch next batch while training (autotune prefetch buffer size)\n",
    "    return dataset\n",
    "\n",
    "def get_validation_dataset(ordered=False):\n",
    "    dataset = load_dataset(VALIDATION_FILENAMES, labeled=True, ordered=ordered)\n",
    "    dataset = dataset.batch(BATCH_SIZE)\n",
    "    dataset = dataset.cache()\n",
    "    dataset = dataset.prefetch(AUTO)\n",
    "    return dataset\n",
    "\n",
    "def get_test_dataset(ordered=False):\n",
    "    dataset = load_dataset(TEST_FILENAMES, labeled=False, ordered=ordered)\n",
    "    dataset = dataset.batch(BATCH_SIZE)\n",
    "    dataset = dataset.prefetch(AUTO)\n",
    "    return dataset\n",
    "\n",
    "def count_data_items(filenames):\n",
    "    # the number of data items is written in the name of the .tfrec files, i.e. flowers00-230.tfrec = 230 data items\n",
    "    n = [int(re.compile(r\"-([0-9]*)\\.\").search(filename).group(1)) for filename in filenames]\n",
    "    return np.sum(n)\n",
    "\n",
    "NUM_TRAINING_IMAGES = count_data_items(TRAINING_FILENAMES)\n",
    "NUM_VALIDATION_IMAGES = count_data_items(VALIDATION_FILENAMES)\n",
    "NUM_TEST_IMAGES = count_data_items(TEST_FILENAMES)\n",
    "print('Dataset: {} training images, {} validation images, {} unlabeled test images'.format(NUM_TRAINING_IMAGES, NUM_VALIDATION_IMAGES, NUM_TEST_IMAGES))\n"
   ]
  },
  {
   "cell_type": "code",
   "execution_count": null,
   "metadata": {},
   "outputs": [],
   "source": [
    "We will create the datasets that we'll use with Keras during training and inference. We scale the size of\n",
    "the batches to the number of TPU cores.\n",
    "To go faster on a TPU, you can increase the batch size. The rule of thumb is to use batches of 128 elements per core. "
   ]
  },
  {
   "cell_type": "code",
   "execution_count": null,
   "metadata": {},
   "outputs": [],
   "source": [
    "strategy.num_replicas_in_sync"
   ]
  },
  {
   "cell_type": "code",
   "execution_count": null,
   "metadata": {},
   "outputs": [],
   "source": [
    "16 * strategy.num_replicas_in_sync"
   ]
  },
  {
   "cell_type": "code",
   "execution_count": null,
   "metadata": {},
   "outputs": [],
   "source": [
    "# Define the batch size. This will be 16 with TPU off and 128 (=16*8) with TPU on\n",
    "BATCH_SIZE = 16 * strategy.num_replicas_in_sync \n",
    "ds_train = get_training_dataset()\n",
    "ds_valid = get_validation_dataset()\n",
    "ds_test = get_test_dataset()\n",
    "\n",
    "print(\"Training:\", ds_train)\n",
    "print (\"Validation:\", ds_valid)\n",
    "print(\"Test:\", ds_test)"
   ]
  },
  {
   "cell_type": "code",
   "execution_count": null,
   "metadata": {},
   "outputs": [],
   "source": [
    "These datasets are `tf.data.Dataset` objects. You can think about a dataset in TensorFlow as a *stream* of data records. The training and validation sets are streams of `(image, label)` pairs. The test set is a stream of (image, idnum) pairs. "
   ]
  },
  {
   "cell_type": "code",
   "execution_count": null,
   "metadata": {},
   "outputs": [],
   "source": [
    "np.set_printoptions(threshold=15, linewidth=80)\n",
    "\n",
    "print(\"Training data shapes:\")\n",
    "for image, label in ds_train.take(3):\n",
    "    print(image.numpy().shape, label.numpy().shape) \n",
    "print(\"Training data label examples:\", label.numpy())"
   ]
  },
  {
   "cell_type": "code",
   "execution_count": null,
   "metadata": {},
   "outputs": [],
   "source": [
    "print(\"Test data shapes:\")\n",
    "for image, idnum in ds_test.take(3):\n",
    "    print(image.numpy().shape, idnum.numpy().shape) \n",
    "print(\"Test data IDs:\", idnum.numpy().astype('U')) "
   ]
  },
  {
   "cell_type": "markdown",
   "metadata": {},
   "source": [
    "# Explore Data"
   ]
  },
  {
   "cell_type": "code",
   "execution_count": null,
   "metadata": {
    "_kg_hide-input": true
   },
   "outputs": [],
   "source": [
    "from matplotlib import pyplot as plt\n",
    "\n",
    "def batch_to_numpy_images_and_labels(data):\n",
    "    images, labels = data\n",
    "    numpy_images = images.numpy()\n",
    "    numpy_labels = labels.numpy()\n",
    "    if numpy_labels.dtype == object: # binary string in this case,these are image ID strings\n",
    "        numpy_labels = [None for _ in enumerate(numpy_images)]\n",
    "        # If no labels, only image IDs, return None for labels (this is the case for test data)\n",
    "    return numpy_images, numpy_labels\n",
    "\n",
    "def title_from_label_and_target(label, correct_label):\n",
    "    if correct_label is None:\n",
    "        return CLASSES[label], True\n",
    "    correct = (label == correct_label)\n",
    "    return \"{} [{}{}{}]\".format(CLASSES[label], \n",
    "                                'OK' if correct else 'NO', \n",
    "                                u\"\\u2192\" if not correct else '',\n",
    "                                CLASSES[correct_label] if not correct else ''), correct\n",
    "\n",
    "def display_one_flower(image, title, subplot, red=False, titlesize=16):\n",
    "    plt.subplot(*subplot)\n",
    "    plt.axis('off')\n",
    "    plt.imshow(image)\n",
    "    if len(title) > 0:\n",
    "        plt.title(title, fontsize=int(titlesize) if not red else int(titlesize/1.2), color='red' if red else 'black', fontdict={'verticalalignment':'center'}, pad=int(titlesize/1.5))\n",
    "    return (subplot[0], subplot[1], subplot[2]+1)\n",
    "    \n",
    "def display_batch_of_images(databatch, predictions=None):\n",
    "    \"\"\"This will work with:\n",
    "    display_batch_of_images(images)\n",
    "    display_batch_of_images(images, predictions)\n",
    "    display_batch_of_images((images, labels))\n",
    "    display_batch_of_images((images, labels), predictions)\n",
    "    \"\"\"\n",
    "    # data\n",
    "    images, labels = batch_to_numpy_images_and_labels(databatch)\n",
    "    if labels is None:\n",
    "        labels = [None for _ in enumerate(images)]\n",
    "        \n",
    "    # auto-squaring: this will drop data that does not fit into square or square-ish rectangle\n",
    "    rows = int(math.sqrt(len(images)))\n",
    "    cols = len(images)//rows\n",
    "        \n",
    "    # size and spacing\n",
    "    FIGSIZE = 13.0\n",
    "    SPACING = 0.1\n",
    "    subplot=(rows,cols,1)\n",
    "    if rows < cols:\n",
    "        plt.figure(figsize=(FIGSIZE,FIGSIZE/cols*rows))\n",
    "    else:\n",
    "        plt.figure(figsize=(FIGSIZE/rows*cols,FIGSIZE))\n",
    "    \n",
    "    # display\n",
    "    for i, (image, label) in enumerate(zip(images[:rows*cols], labels[:rows*cols])):\n",
    "        title = '' if label is None else CLASSES[label]\n",
    "        correct = True\n",
    "        if predictions is not None:\n",
    "            title, correct = title_from_label_and_target(predictions[i], label)\n",
    "        dynamic_titlesize = FIGSIZE*SPACING/max(rows,cols)*40+3 # magic formula tested to work from 1x1 to 10x10 images\n",
    "        subplot = display_one_flower(image, title, subplot, not correct, titlesize=dynamic_titlesize)\n",
    "    \n",
    "    #layout\n",
    "    plt.tight_layout()\n",
    "    if label is None and predictions is None:\n",
    "        plt.subplots_adjust(wspace=0, hspace=0)\n",
    "    else:\n",
    "        plt.subplots_adjust(wspace=SPACING, hspace=SPACING)\n",
    "    plt.show()\n",
    "\n",
    "\n",
    "def display_training_curves(training, validation, title, subplot):\n",
    "    if subplot%10==1: # set up the subplots on the first call\n",
    "        plt.subplots(figsize=(10,10), facecolor='#F0F0F0')\n",
    "        plt.tight_layout()\n",
    "    ax = plt.subplot(subplot)\n",
    "    ax.set_facecolor('#F8F8F8')\n",
    "    ax.plot(training)\n",
    "    ax.plot(validation)\n",
    "    ax.set_title('model '+ title)\n",
    "    ax.set_ylabel(title)\n",
    "    #ax.set_ylim(0.28,1.05)\n",
    "    ax.set_xlabel('epoch')\n",
    "    ax.legend(['train', 'valid.'])\n",
    "\n",
    "def display_training_curves_v2(training, validation, learning_rate_list, title, subplot):\n",
    "    if subplot%10==1: # set up the subplots on the first call\n",
    "        plt.subplots(figsize=(10,10), facecolor='#F0F0F0')\n",
    "        plt.tight_layout()\n",
    "    ax = plt.subplot(subplot)\n",
    "    ax.set_facecolor('#F8F8F8')\n",
    "    ax.plot(training)\n",
    "    ax.plot(validation)\n",
    "    ax.set_title('model '+ title)\n",
    "    ax.set_ylabel(title, color='b')\n",
    "    #ax.set_ylim(0.28,1.05)\n",
    "    ax.set_xlabel('epoch')\n",
    "    ax.legend(['train', 'valid.', 'learning rate'])        \n",
    "    \n",
    "    ax2 = ax.twinx()\n",
    "    ax2.plot(learning_rate_list, 'g-')\n",
    "    ax2.set_ylabel('learning rate', color='g')"
   ]
  },
  {
   "cell_type": "markdown",
   "metadata": {},
   "source": [
    "You can display a single batch of images from a dataset with another of our helper functions. The next cell will turn the dataset into an iterator of batches of 20 images."
   ]
  },
  {
   "cell_type": "code",
   "execution_count": null,
   "metadata": {},
   "outputs": [],
   "source": [
    "ds_iter = iter(ds_train.unbatch().batch(20))"
   ]
  },
  {
   "cell_type": "markdown",
   "metadata": {},
   "source": [
    "Use the Python `next` function to pop out the next batch in the stream and display it with the helper function."
   ]
  },
  {
   "cell_type": "code",
   "execution_count": null,
   "metadata": {},
   "outputs": [],
   "source": [
    "one_batch = next(ds_iter)\n",
    "display_batch_of_images(one_batch)"
   ]
  },
  {
   "cell_type": "code",
   "execution_count": null,
   "metadata": {},
   "outputs": [],
   "source": [
    "row = 3\n",
    "col = 4\n",
    "all_elements = get_training_dataset().unbatch()\n",
    "one_element = tf.data.Dataset.from_tensors(next(iter(all_elements)))\n",
    "# Map the images to the data augmentation function for image processing\n",
    "augmented_element = one_element.repeat().map(data_augment).batch(row * col)\n",
    "\n",
    "for (img, label) in augmented_element:\n",
    "    plt.figure(figsize = (15, int(15 * row / col)))\n",
    "    for j in range(row * col):\n",
    "        plt.subplot(row, col, j + 1)\n",
    "        plt.axis('off')\n",
    "        plt.imshow(img[j, ])\n",
    "    plt.show()\n",
    "    break"
   ]
  },
  {
   "cell_type": "markdown",
   "metadata": {},
   "source": [
    "# Define Model\n",
    "We are going to create a neural network classifier using transfer learning.\n",
    "With transfer learning, you reuse part of a pretrained model to get a head-start on a new dataset.\n",
    "\n",
    "For this tutorial, we'll use EfficientNetB7 pretrained on ImageNet).\n",
    "\n",
    "The distribution strategy we created earlier contains a context manager, strategy.scope.\n",
    "This context manager tells TensorFlow how to divide the work of training among the eight TPU cores. When using TensorFlow \n",
    "with a TPU, it's important to define your model in a strategy.scope() context."
   ]
  },
  {
   "cell_type": "code",
   "execution_count": null,
   "metadata": {},
   "outputs": [],
   "source": [
    "[*IMAGE_SIZE, 3]"
   ]
  },
  {
   "cell_type": "code",
   "execution_count": null,
   "metadata": {},
   "outputs": [],
   "source": [
    "', '.join(tf.keras.applications.__dir__())"
   ]
  },
  {
   "cell_type": "code",
   "execution_count": null,
   "metadata": {},
   "outputs": [],
   "source": [
    "# Model weights are saved at the end of every epoch, if it's the best seen so far during model.fit\n",
    "checkpoint_filepath = \"EfficientNetB7.h5\"\n",
    "\n",
    "checkpoint = tf.keras.callbacks.ModelCheckpoint(\n",
    "    filepath=checkpoint_filepath,\n",
    "    save_weights_only=True,\n",
    "    monitor='val_loss',\n",
    "    mode='min',\n",
    "    save_best_only=True\n",
    ")"
   ]
  },
  {
   "cell_type": "code",
   "execution_count": null,
   "metadata": {},
   "outputs": [],
   "source": [
    "# This callback will stop the training when there is no improvement in the validation loss for three consecutive epochs. \n",
    "early_stopping = tf.keras.callbacks.EarlyStopping(monitor='val_loss', patience=3)"
   ]
  },
  {
   "cell_type": "code",
   "execution_count": null,
   "metadata": {},
   "outputs": [],
   "source": [
    "use_efficientnet = True #tuning9\n",
    "if use_efficientnet:\n",
    "    !pip install -q efficientnet\n",
    "    from efficientnet.tfkeras import EfficientNetB7"
   ]
  },
  {
   "cell_type": "markdown",
   "metadata": {},
   "source": [
    "# Calculate weight for each class "
   ]
  },
  {
   "cell_type": "code",
   "execution_count": null,
   "metadata": {},
   "outputs": [],
   "source": [
    "weight_per_class = True\n",
    "\n",
    "if weight_per_class:\n",
    "    from collections import Counter\n",
    "    import gc\n",
    "\n",
    "    gc.enable()\n",
    "\n",
    "    def get_training_dataset_raw():\n",
    "        dataset = load_dataset(TRAINING_FILENAMES, labeled = True, ordered = False)\n",
    "        return dataset\n",
    "\n",
    "    raw_training_dataset = get_training_dataset_raw()\n",
    "\n",
    "    label_counter = Counter()\n",
    "    for images, labels in raw_training_dataset:\n",
    "        label_counter.update([labels.numpy()])\n",
    "\n",
    "    del raw_training_dataset    \n",
    "\n",
    "    TARGET_NUM_PER_CLASS = 122\n",
    "\n",
    "    def get_weight_for_class(class_id):\n",
    "        counting = label_counter[class_id]\n",
    "        weight = TARGET_NUM_PER_CLASS / counting\n",
    "        return weight\n",
    "\n",
    "    weight_per_class = {class_id: get_weight_for_class(class_id) for class_id in range(104)}"
   ]
  },
  {
   "cell_type": "code",
   "execution_count": null,
   "metadata": {},
   "outputs": [],
   "source": [
    "if weight_per_class:\n",
    "    data = pd.DataFrame.from_dict(weight_per_class, orient='index', columns=['class_weight'])\n",
    "    plt.figure(figsize=(30, 9))\n",
    "\n",
    "    #barplot color based on value\n",
    "    bplot = sns.barplot(x=data.index, y='class_weight', data=data, palette= cm.Blues(data['class_weight']*0.15));\n",
    "    for p in bplot.patches:\n",
    "        bplot.annotate(format(p.get_height(), '.1f'), \n",
    "                       (p.get_x() + p.get_width() / 2., p.get_height()), \n",
    "                       ha = 'center', va = 'center', \n",
    "                       xytext = (0, 9), \n",
    "                       textcoords = 'offset points')\n",
    "    plt.xlabel(\"Class\", size=14)\n",
    "    plt.ylabel(\"Class % or weight\", size=14)"
   ]
  },
  {
   "cell_type": "code",
   "execution_count": null,
   "metadata": {},
   "outputs": [],
   "source": [
    "with strategy.scope():\n",
    "    #pretrained_model = tf.keras.applications.VGG16\n",
    "    #pretrained_model = tf.keras.applications.DenseNet201\n",
    "    #pretrained_model = tf.keras.applications.InceptionResNetV2\n",
    "    #pretrained_model = tf.keras.applications.InceptionV3\n",
    "    #pretrained_model = tf.keras.applications.MobileNet\n",
    "    #pretrained_model = tf.keras.applications.MobileNetV2\n",
    "    #pretrained_model = tf.keras.applications.NASNetMobile\n",
    "    #pretrained_model = tf.keras.applications.ResNet50\n",
    "    #pretrained_model = tf.keras.applications.ResNet101V2\n",
    "    #pretrained_model = tf.keras.applications.VGG19\n",
    "    #pretrained_model = tf.keras.applications.Xception\n",
    "    #pretrained_model = tf.keras.applications.DenseNet201\n",
    "    #pretrained_model = EfficientNetB7\n",
    "    \n",
    "    pretrained_model = EfficientNetB7(\n",
    "        include_top=False ,\n",
    "        weights='noisy-student', #tuning10 weights='noisy-student' instead of 'imagenet'\n",
    "                            #Self-training with Noisy Student improves ImageNet classification https://arxiv.org/abs/1911.04252) \n",
    "        #pooling='avg', #tuning1\n",
    "        input_shape=[*IMAGE_SIZE, 3]\n",
    "    )\n",
    "\n",
    "    pretrained_model.trainable = True #tuning8 pretrained_model.trainable = True\n",
    "    \n",
    "    model = tf.keras.Sequential([\n",
    "        pretrained_model, #Base pretrained on ImageNet to extract features from images\n",
    "\n",
    "        tf.keras.layers.GlobalAveragePooling2D(), ##Attach a new head to act as a classifier\n",
    "        #tf.keras.layers.Dropout(0.3), #tuning3\n",
    "        tf.keras.layers.Dense(len(CLASSES), activation='softmax')\n",
    "    ])"
   ]
  },
  {
   "cell_type": "markdown",
   "metadata": {},
   "source": [
    "The `'sparse_categorical'` versions of the loss and metrics are appropriate for a classification task with more than two labels, like this one."
   ]
  },
  {
   "cell_type": "code",
   "execution_count": null,
   "metadata": {},
   "outputs": [],
   "source": [
    "model.compile(\n",
    "    optimizer='nadam', #tuning2 optimizer='nadam',\n",
    "    loss = 'sparse_categorical_crossentropy',\n",
    "    metrics=['sparse_categorical_accuracy'],\n",
    ")"
   ]
  },
  {
   "cell_type": "code",
   "execution_count": null,
   "metadata": {},
   "outputs": [],
   "source": [
    "model.summary()"
   ]
  },
  {
   "cell_type": "code",
   "execution_count": null,
   "metadata": {},
   "outputs": [],
   "source": [
    "tf.keras.utils.plot_model(model, show_shapes=True)"
   ]
  },
  {
   "cell_type": "markdown",
   "metadata": {},
   "source": [
    "# Training #\n",
    "\n",
    "## Learning Rate Schedule ##\n",
    "\n",
    "We'll train this network with a special learning rate schedule."
   ]
  },
  {
   "cell_type": "code",
   "execution_count": null,
   "metadata": {
    "_kg_hide-input": true
   },
   "outputs": [],
   "source": [
    "# Define training epochs\n",
    "EPOCHS = 30\n",
    "\n",
    "# Define the batch size. This will be 16 with TPU off and 128 (=16*8) with TPU on\n",
    "BATCH_SIZE = 16 * strategy.num_replicas_in_sync \n",
    "\n",
    "STEPS_PER_EPOCH = NUM_TRAINING_IMAGES // BATCH_SIZE"
   ]
  },
  {
   "cell_type": "code",
   "execution_count": null,
   "metadata": {},
   "outputs": [],
   "source": [
    "# Learning Rate Schedule for Fine Tuning #\n",
    "def exponential_lr(epoch,\n",
    "                   start_lr = 0.00001, min_lr = 0.00001, max_lr = 0.00005 * strategy.num_replicas_in_sync, #tuning1\n",
    "                   rampup_epochs = 5, sustain_epochs = 0,\n",
    "                   exp_decay = 0.75): #tuning1\n",
    "\n",
    "    def lr(epoch, start_lr, min_lr, max_lr, rampup_epochs, sustain_epochs, exp_decay):\n",
    "        # linear increase from start to rampup_epochs\n",
    "        if epoch < rampup_epochs:\n",
    "            lr = ((max_lr - start_lr) /\n",
    "                  rampup_epochs * epoch + start_lr)\n",
    "        # constant max_lr during sustain_epochs\n",
    "        elif epoch < rampup_epochs + sustain_epochs:\n",
    "            lr = max_lr\n",
    "        # exponential decay towards min_lr\n",
    "        else:\n",
    "            lr = ((max_lr - min_lr) *\n",
    "                  exp_decay**(epoch - rampup_epochs - sustain_epochs) +\n",
    "                  min_lr)\n",
    "        return lr\n",
    "    return lr(epoch,\n",
    "              start_lr,\n",
    "              min_lr,\n",
    "              max_lr,\n",
    "              rampup_epochs,\n",
    "              sustain_epochs,\n",
    "              exp_decay)\n",
    "\n",
    "lr_callback = tf.keras.callbacks.LearningRateScheduler(exponential_lr, verbose=True)\n",
    "\n",
    "rng = [i for i in range(EPOCHS)]\n",
    "y = [exponential_lr(x) for x in rng]\n",
    "plt.plot(rng, y)\n",
    "print(\"Learning rate schedule: {:.3g} to {:.3g} to {:.3g}\".format(y[0], max(y), y[-1]))"
   ]
  },
  {
   "cell_type": "markdown",
   "metadata": {},
   "source": [
    "# Fit Model"
   ]
  },
  {
   "cell_type": "code",
   "execution_count": null,
   "metadata": {},
   "outputs": [],
   "source": [
    "history = model.fit(\n",
    "    ds_train,\n",
    "    validation_data=ds_valid,\n",
    "    epochs=EPOCHS,\n",
    "    steps_per_epoch=STEPS_PER_EPOCH,\n",
    "    callbacks=[lr_callback, checkpoint], # Model weights are saved at the end of every epoch, if it's the best seen so far\n",
    "    #workers = 3 #tuning5 https://www.tensorflow.org/tutorials/distribute/multi_worker_with_keras\n",
    "    class_weight = weight_per_class #tuning11\n",
    ")"
   ]
  },
  {
   "cell_type": "markdown",
   "metadata": {},
   "source": [
    "## Model performance"
   ]
  },
  {
   "cell_type": "code",
   "execution_count": null,
   "metadata": {},
   "outputs": [],
   "source": [
    "#Automated approach: https://stackoverflow.com/questions/49127214/keras-how-to-output-learning-rate-onto-tensorboard\n",
    "learning_rate_list =[0.0010, 8.8000e-4, 6.8800e-4, 5.1520e-4, 4.2304e-4, 4.0000e-4, 3.0250e-4, 2.2938e-4, 1.7453e-4, 1.3340e-4, 1.0255e-4, 7.9412e-5, 6.2059e-5, 4.9044e-5, 3.9283e-5, 3.1962e-5, 2.6472e-5, 2.2354e-5, 1.9265e-5, 1.6949e-5, 1.5212e-5, 1.3909e-5, 1.2932e-5, 1.2199e-5, 1.1649e-5, 1.1237e-5, 1.0928e-5, 1.0696e-5, 1.0522e-5, 1.0391e-5]"
   ]
  },
  {
   "cell_type": "code",
   "execution_count": null,
   "metadata": {},
   "outputs": [],
   "source": [
    "display_training_curves_v2(\n",
    "    history.history['loss'],\n",
    "    history.history['val_loss'],\n",
    "    learning_rate_list,\n",
    "    'loss',\n",
    "    211,\n",
    ")\n",
    "\n",
    "display_training_curves_v2(\n",
    "    history.history['sparse_categorical_accuracy'],\n",
    "    history.history['val_sparse_categorical_accuracy'],\n",
    "    learning_rate_list,\n",
    "    'accuracy',\n",
    "    212,\n",
    ")"
   ]
  },
  {
   "cell_type": "code",
   "execution_count": null,
   "metadata": {},
   "outputs": [],
   "source": [
    "display_training_curves(\n",
    "    history.history['loss'],\n",
    "    history.history['val_loss'],\n",
    "    'loss',\n",
    "    211,\n",
    ")\n",
    "\n",
    "display_training_curves(\n",
    "    history.history['sparse_categorical_accuracy'],\n",
    "    history.history['val_sparse_categorical_accuracy'],\n",
    "    'accuracy',\n",
    "    212,\n",
    ")"
   ]
  },
  {
   "cell_type": "markdown",
   "metadata": {},
   "source": [
    "The model weights (that are considered the best) are loaded into the model."
   ]
  },
  {
   "cell_type": "code",
   "execution_count": null,
   "metadata": {},
   "outputs": [],
   "source": [
    "model.load_weights(checkpoint_filepath)"
   ]
  },
  {
   "cell_type": "markdown",
   "metadata": {},
   "source": [
    "# Evaluate Predictions \n",
    "\n",
    "Before making final predictions on the test set, we'll evaluate the model's predictions on the validation set. This will help  diagnose problems in training or suggest ways your model could be improved. We will plot the confusion matrix and visual validation."
   ]
  },
  {
   "cell_type": "code",
   "execution_count": null,
   "metadata": {
    "_kg_hide-input": true
   },
   "outputs": [],
   "source": [
    "def display_confusion_matrix(cmat, score, precision, recall):\n",
    "    plt.figure(figsize=(25,25))\n",
    "    ax = plt.gca()\n",
    "    ax.matshow(cmat, cmap='Reds')\n",
    "    ax.set_xticks(range(len(CLASSES)))\n",
    "    ax.set_xticklabels(CLASSES, fontdict={'fontsize': 7})\n",
    "    plt.setp(ax.get_xticklabels(), rotation=45, ha=\"left\", rotation_mode=\"anchor\")\n",
    "    ax.set_yticks(range(len(CLASSES)))\n",
    "    ax.set_yticklabels(CLASSES, fontdict={'fontsize': 7})\n",
    "    plt.setp(ax.get_yticklabels(), rotation=45, ha=\"right\", rotation_mode=\"anchor\")\n",
    "    titlestring = \"\"\n",
    "    if score is not None:\n",
    "        titlestring += 'f1 = {:.3f} '.format(score)\n",
    "    if precision is not None:\n",
    "        titlestring += '\\nprecision = {:.3f} '.format(precision)\n",
    "    if recall is not None:\n",
    "        titlestring += '\\nrecall = {:.3f} '.format(recall)\n",
    "    if len(titlestring) > 0:\n",
    "        ax.text(101, 1, titlestring, fontdict={'fontsize': 18, 'horizontalalignment':'right', 'verticalalignment':'top', 'color':'#804040'})\n",
    "    \n",
    "    print('Epoch with min loss and max accuracy:', np.argmin(history.history['val_loss']), np.argmax(history.history['val_sparse_categorical_accuracy']))\n",
    "    print('min loss and max accuracy:', round(min(history.history['val_loss']),2), round(max(history.history['val_sparse_categorical_accuracy']),2))\n",
    "    print(titlestring.replace('\\n', ''))\n",
    "    plt.show()\n",
    "    \n",
    "def display_training_curves(training, validation, title, subplot):\n",
    "    if subplot%10==1: # set up the subplots on the first call\n",
    "        plt.subplots(figsize=(10,10), facecolor='#F0F0F0')\n",
    "        plt.tight_layout()\n",
    "    ax = plt.subplot(subplot)\n",
    "    ax.set_facecolor('#F8F8F8')\n",
    "    ax.plot(training)\n",
    "    ax.plot(validation)\n",
    "    ax.set_title('model '+ title)\n",
    "    ax.set_ylabel(title)\n",
    "    #ax.set_ylim(0.28,1.05)\n",
    "    ax.set_xlabel('epoch')\n",
    "    ax.legend(['train', 'valid.'])"
   ]
  },
  {
   "cell_type": "markdown",
   "metadata": {},
   "source": [
    "# Confusion Matrix"
   ]
  },
  {
   "cell_type": "code",
   "execution_count": null,
   "metadata": {},
   "outputs": [],
   "source": [
    "from sklearn.metrics import f1_score, precision_score, recall_score, confusion_matrix\n",
    "\n",
    "cmdataset = get_validation_dataset(ordered=True)\n",
    "images_ds = cmdataset.map(lambda image, label: image)\n",
    "labels_ds = cmdataset.map(lambda image, label: label).unbatch()\n",
    "\n",
    "cm_correct_labels = next(iter(labels_ds.batch(NUM_VALIDATION_IMAGES))).numpy()\n",
    "cm_probabilities = model.predict(images_ds)\n",
    "cm_predictions = np.argmax(cm_probabilities, axis=-1)\n",
    "\n",
    "labels = range(len(CLASSES))\n",
    "cmat = confusion_matrix(\n",
    "    cm_correct_labels,\n",
    "    cm_predictions,\n",
    "    labels=labels,\n",
    ")\n",
    "cmat = (cmat.T / cmat.sum(axis=1)).T # normalize"
   ]
  },
  {
   "cell_type": "code",
   "execution_count": null,
   "metadata": {},
   "outputs": [],
   "source": [
    "cmat "
   ]
  },
  {
   "cell_type": "code",
   "execution_count": null,
   "metadata": {},
   "outputs": [],
   "source": [
    "score = f1_score(\n",
    "    cm_correct_labels,\n",
    "    cm_predictions,\n",
    "    labels=labels,\n",
    "    average='macro',\n",
    ")\n",
    "\n",
    "precision = precision_score(\n",
    "    cm_correct_labels,\n",
    "    cm_predictions,\n",
    "    labels=labels,\n",
    "    average='macro',\n",
    ")\n",
    "\n",
    "recall = recall_score(\n",
    "    cm_correct_labels,\n",
    "    cm_predictions,\n",
    "    labels=labels,\n",
    "    average='macro',\n",
    ")\n",
    "\n",
    "display_confusion_matrix(cmat, score, precision, recall)"
   ]
  },
  {
   "cell_type": "code",
   "execution_count": null,
   "metadata": {},
   "outputs": [],
   "source": [
    "model_performance_report = model_performance_report.sort_values(by='max accuracy')\n",
    "model_performance_report"
   ]
  },
  {
   "cell_type": "markdown",
   "metadata": {},
   "source": [
    "## Visual Validation ##\n",
    "\n",
    "It can also be helpful to look at some examples from the validation set and see what class your model predicted. This can help reveal patterns in the kinds of images your model has trouble with.\n",
    "\n",
    "This cell will set up the validation set to display 20 images at a time -- you can change this to display more or fewer, if you like."
   ]
  },
  {
   "cell_type": "code",
   "execution_count": null,
   "metadata": {},
   "outputs": [],
   "source": [
    "dataset = get_validation_dataset()\n",
    "dataset = dataset.unbatch().batch(20)\n",
    "batch = iter(dataset)"
   ]
  },
  {
   "cell_type": "markdown",
   "metadata": {},
   "source": [
    "And here is a set of flowers with their predicted species. Run the cell again to see another set."
   ]
  },
  {
   "cell_type": "code",
   "execution_count": null,
   "metadata": {},
   "outputs": [],
   "source": [
    "images, labels = next(batch)\n",
    "probabilities = model.predict(images)\n",
    "predictions = np.argmax(probabilities, axis=-1)\n",
    "display_batch_of_images((images, labels), predictions)"
   ]
  },
  {
   "cell_type": "markdown",
   "metadata": {},
   "source": [
    "Let's take a look again at some training images"
   ]
  },
  {
   "cell_type": "code",
   "execution_count": null,
   "metadata": {},
   "outputs": [],
   "source": [
    "one_batch = next(ds_iter)\n",
    "display_batch_of_images(one_batch)"
   ]
  },
  {
   "cell_type": "markdown",
   "metadata": {},
   "source": [
    "# Make Test Predictions"
   ]
  },
  {
   "cell_type": "code",
   "execution_count": null,
   "metadata": {},
   "outputs": [],
   "source": [
    "test_ds = get_test_dataset(ordered=True)\n",
    "\n",
    "print('Computing predictions...')\n",
    "test_images_ds = test_ds.map(lambda image, idnum: image)\n",
    "probabilities = model.predict(test_images_ds)\n",
    "predictions = np.argmax(probabilities, axis=-1)\n",
    "print(predictions)"
   ]
  },
  {
   "cell_type": "code",
   "execution_count": null,
   "metadata": {},
   "outputs": [],
   "source": [
    "print('Generating submission.csv file...')\n",
    "\n",
    "# Get image ids from test set and convert to unicode\n",
    "test_ids_ds = test_ds.map(lambda image, idnum: idnum).unbatch()\n",
    "test_ids = next(iter(test_ids_ds.batch(NUM_TEST_IMAGES))).numpy().astype('U')\n",
    "\n",
    "# Write the submission file\n",
    "np.savetxt(\n",
    "    'submission.csv',\n",
    "    np.rec.fromarrays([test_ids, predictions]),\n",
    "    fmt=['%s', '%d'],\n",
    "    delimiter=',',\n",
    "    header='id,label',\n",
    "    comments='',\n",
    ")\n",
    "\n",
    "# Look at the first few predictions\n",
    "!head submission.csv"
   ]
  }
 ],
 "metadata": {
  "kernelspec": {
   "display_name": "Python 3",
   "language": "python",
   "name": "python3"
  },
  "language_info": {
   "codemirror_mode": {
    "name": "ipython",
    "version": 3
   },
   "file_extension": ".py",
   "mimetype": "text/x-python",
   "name": "python",
   "nbconvert_exporter": "python",
   "pygments_lexer": "ipython3",
   "version": "3.7.3"
  }
 },
 "nbformat": 4,
 "nbformat_minor": 4
}
